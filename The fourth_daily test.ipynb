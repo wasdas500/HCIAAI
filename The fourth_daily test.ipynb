{
 "cells": [
  {
   "cell_type": "markdown",
   "metadata": {},
   "source": [
    "### 1、Import tensorflow and use tensorflow to define a constant."
   ]
  },
  {
   "cell_type": "code",
   "execution_count": 1,
   "metadata": {},
   "outputs": [],
   "source": [
    "import  tensorflow as tf\n",
    "hello = tf.constant(\"Hello, TF\")"
   ]
  },
  {
   "cell_type": "markdown",
   "metadata": {},
   "source": [
    "### 2、Use tensorflow to print 'Welcome to Huawei'."
   ]
  },
  {
   "cell_type": "code",
   "execution_count": 2,
   "metadata": {},
   "outputs": [
    {
     "name": "stdout",
     "output_type": "stream",
     "text": [
      "b'Welcome to Huawei'\n"
     ]
    }
   ],
   "source": [
    "session = tf.Session()\n",
    "hello = tf.constant('Welcome to Huawei')\n",
    "result = session.run(hello)\n",
    "print(result)\n",
    "session.close()"
   ]
  },
  {
   "cell_type": "markdown",
   "metadata": {},
   "source": [
    "### 3、Use tensorflow to define two numeric constants,then calculate them and print the result."
   ]
  },
  {
   "cell_type": "code",
   "execution_count": 3,
   "metadata": {},
   "outputs": [
    {
     "name": "stdout",
     "output_type": "stream",
     "text": [
      "1359\n"
     ]
    }
   ],
   "source": [
    "z = tf.constant(151)\n",
    "x = tf.constant(9)\n",
    "\n",
    "result = z * x\n",
    "with tf.Session() as sess:\n",
    "    print(sess.run(result))\n",
    "sess.close()"
   ]
  },
  {
   "cell_type": "markdown",
   "metadata": {},
   "source": [
    "### 4、Randomly generate two matrices using tensorflow, calculate and print the result of their multiplication."
   ]
  },
  {
   "cell_type": "code",
   "execution_count": 4,
   "metadata": {},
   "outputs": [
    {
     "name": "stdout",
     "output_type": "stream",
     "text": [
      "[[-1.1680924  5.0312347  2.1211724]\n",
      " [ 7.2730856  6.726268   7.0590773]\n",
      " [ 9.3129635  9.9884405  5.944621 ]]\n"
     ]
    }
   ],
   "source": [
    "sess = tf.InteractiveSession()\n",
    "A = tf.Variable(tf.random_normal([3,4],mean=1.0, stddev=1.0))\n",
    "B = tf.Variable(tf.random_normal([4,3],mean=1.0, stddev=1.0))\n",
    "tf.global_variables_initializer().run()\n",
    "\n",
    "result = tf.matmul(A, B)\n",
    "print(result.eval())"
   ]
  },
  {
   "cell_type": "markdown",
   "metadata": {},
   "source": [
    "### 5、Try to use your own handwriting number to do image recognition"
   ]
  },
  {
   "cell_type": "code",
   "execution_count": 5,
   "metadata": {},
   "outputs": [
    {
     "name": "stdout",
     "output_type": "stream",
     "text": [
      "Extracting data\\MNIST_data\\train-images-idx3-ubyte.gz\n",
      "Extracting data\\MNIST_data\\train-labels-idx1-ubyte.gz\n",
      "Extracting data\\MNIST_data\\t10k-images-idx3-ubyte.gz\n",
      "Extracting data\\MNIST_data\\t10k-labels-idx1-ubyte.gz\n"
     ]
    }
   ],
   "source": [
    "# importing libraries \n",
    "import numpy as np \n",
    "import matplotlib.pyplot as plt\n",
    "from tensorflow.examples.tutorials.mnist import input_data\n",
    "learn = tf.contrib.learn \n",
    "tf.logging.set_verbosity(tf.logging.ERROR)\n",
    "mnist = input_data.read_data_sets(\"data\\\\MNIST_data\\\\\")"
   ]
  },
  {
   "cell_type": "code",
   "execution_count": 6,
   "metadata": {},
   "outputs": [],
   "source": [
    "data = mnist.train.images \n",
    "labels = np.asarray(mnist.train.labels, dtype = np.int32) \n",
    "test_data = mnist.test.images \n",
    "test_labels = np.asarray(mnist.test.labels, dtype = np.int32) \n",
    "  \n",
    "max_examples = 10000\n",
    "data = data[:max_examples] \n",
    "labels = labels[:max_examples]"
   ]
  },
  {
   "cell_type": "code",
   "execution_count": 7,
   "metadata": {},
   "outputs": [
    {
     "data": {
      "text/plain": [
       "LinearClassifier(params={'head': <tensorflow.contrib.learn.python.learn.estimators.head._MultiClassHead object at 0x000001F43DFCD470>, 'feature_columns': [_RealValuedColumn(column_name='', dimension=784, default_value=None, dtype=tf.float32, normalizer=None)], 'optimizer': None, 'gradient_clip_norm': None, 'joint_weights': False})"
      ]
     },
     "execution_count": 7,
     "metadata": {},
     "output_type": "execute_result"
    }
   ],
   "source": [
    "def display(i): \n",
    "    img = test_data[i] \n",
    "    plt.title('label : {}'.format(test_labels[i])) \n",
    "    plt.imshow(img.reshape((28, 28))) \n",
    "\n",
    "# img in tf is 28 by 28 px \n",
    "# fitting linear classifier \n",
    "feature_columns = learn.infer_real_valued_columns_from_input(data) \n",
    "classifier = learn.LinearClassifier(n_classes = 10,  \n",
    "                                    feature_columns = feature_columns)\n",
    "classifier.fit(data, labels, batch_size = 100, steps = 1000)"
   ]
  },
  {
   "cell_type": "code",
   "execution_count": 8,
   "metadata": {},
   "outputs": [
    {
     "name": "stdout",
     "output_type": "stream",
     "text": [
      "0.9137\n",
      "prediction : [6], label : 6\n"
     ]
    },
    {
     "data": {
      "image/png": "[encoded data removed]",
      "text/plain": [
       "<Figure size 432x288 with 1 Axes>"
      ]
     },
     "metadata": {
      "needs_background": "light"
     },
     "output_type": "display_data"
    }
   ],
   "source": [
    "# Evaluate accuracy \n",
    "classifier.evaluate(test_data, test_labels) \n",
    "print(classifier.evaluate(test_data, test_labels)[\"accuracy\"]) \n",
    "  \n",
    "prediction = classifier.predict(np.array([test_data[11]],  \n",
    "                                         dtype=float),  \n",
    "                                         as_iterable=False) \n",
    "print(\"prediction : {}, label : {}\".format(prediction,  \n",
    "      test_labels[11]) ) \n",
    "  \n",
    "if prediction == test_labels[11]: \n",
    "     display(11)"
   ]
  },
  {
   "cell_type": "code",
   "execution_count": null,
   "metadata": {},
   "outputs": [],
   "source": []
  }
 ],
 "metadata": {
  "kernelspec": {
   "display_name": "Python 3",
   "language": "python",
   "name": "python3"
  },
  "language_info": {
   "codemirror_mode": {
    "name": "ipython",
    "version": 3
   },
   "file_extension": ".py",
   "mimetype": "text/x-python",
   "name": "python",
   "nbconvert_exporter": "python",
   "pygments_lexer": "ipython3",
   "version": "3.6.8"
  }
 },
 "nbformat": 4,
 "nbformat_minor": 2
}
